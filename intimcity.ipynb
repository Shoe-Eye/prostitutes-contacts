{
 "cells": [
  {
   "cell_type": "code",
   "execution_count": 1,
   "metadata": {},
   "outputs": [],
   "source": [
    "from bs4 import BeautifulSoup as bs\n",
    "from fake_useragent import UserAgent\n",
    "\n",
    "import time\n",
    "import requests"
   ]
  },
  {
   "cell_type": "code",
   "execution_count": 2,
   "metadata": {},
   "outputs": [],
   "source": [
    "UA = UserAgent()\n",
    "\n",
    "HEADERS = {\n",
    "    \"accept\": \"text/html,application/xhtml+xml,application/xml;q=0.9,image/avif,image/webp,image/apng,*/*;q=0.8,application/signed-exchange;v=b3;q=0.9\",\n",
    "    \"user-agent\": UA.random,\n",
    "}"
   ]
  },
  {
   "cell_type": "code",
   "execution_count": 3,
   "metadata": {},
   "outputs": [],
   "source": [
    "def extract_telegram(profile):\n",
    "    contact_links = profile.find_all(\"a\", class_=\"b\")\n",
    "    for link in [l.get(\"href\") for l in contact_links]:    \n",
    "        if link.startswith(\"tg://resolve?domain=\"):\n",
    "            return link.replace(\"tg://resolve?domain=\", \"\")\n",
    "    return None"
   ]
  },
  {
   "cell_type": "code",
   "execution_count": 4,
   "metadata": {},
   "outputs": [],
   "source": [
    "START_PAGE = f\"https://www.intimcity.nl/search_ext.php?district%5B27%5D=on&district%5B30%5D=on&district%5B39%5D=on\"\n",
    "\n",
    "girl_list = requests.get(                \n",
    "    START_PAGE,\n",
    "    headers=HEADERS,\n",
    "    timeout=30,\n",
    ")"
   ]
  },
  {
   "cell_type": "code",
   "execution_count": 5,
   "metadata": {},
   "outputs": [],
   "source": [
    "def extract_pages(page):\n",
    "    links = []\n",
    "    pages = page.find_all(\"a\")\n",
    "    for p in pages:\n",
    "        link = p.get('href')\n",
    "        if link.startswith('search_ext.php'):\n",
    "            links.append(\"https://www.intimcity.nl/\" + link)\n",
    "    return links"
   ]
  },
  {
   "cell_type": "code",
   "execution_count": 6,
   "metadata": {},
   "outputs": [],
   "source": [
    "def extract_accounts(page):\n",
    "    links = []\n",
    "    pages = page.find_all(\"a\")\n",
    "    for p in pages:\n",
    "        link = p.get('href')\n",
    "        if link.startswith('/persons.php'):\n",
    "            links.append(link)\n",
    "    return links"
   ]
  },
  {
   "cell_type": "code",
   "execution_count": 7,
   "metadata": {},
   "outputs": [],
   "source": [
    "def extract_girls_telegrams_from_page(page):\n",
    "    telegrams = []\n",
    "    profiles = extract_accounts(page)\n",
    "    for profile in profiles:\n",
    "        try:\n",
    "            girl_profile = requests.get(                \n",
    "                f\"https://www.intimcity.nl\" + profile,\n",
    "                headers=HEADERS,\n",
    "                timeout=30,\n",
    "            )\n",
    "        except:\n",
    "            continue\n",
    "        \n",
    "        telegram = extract_telegram(bs(girl_profile.text))\n",
    "        if telegram is not None:\n",
    "            print(telegram)\n",
    "            telegrams.append(telegram)\n",
    "        time.sleep(0.2)\n",
    "    \n",
    "    return telegrams"
   ]
  },
  {
   "cell_type": "code",
   "execution_count": 8,
   "metadata": {},
   "outputs": [
    {
     "name": "stdout",
     "output_type": "stream",
     "text": [
      "Number of pages:  7\n",
      "parsing page 0 https://www.intimcity.nl/search_ext.php?district%5B27%5D=on&district%5B30%5D=on&district%5B39%5D=on\n",
      "samira88095\n",
      "assia98\n",
      "mila576609\n",
      "anitalove88\n",
      "dashylichka2957\n",
      "katya45267\n",
      "diana78499\n",
      "assia98\n",
      "miria2999\n",
      "theannL\n",
      "kamila46621\n",
      "mila576609\n",
      "Lola7014\n",
      "kamila46621\n",
      "SexBombochka\n",
      "diana78499\n",
      "masha26799\n",
      "eva78009\n",
      "masha26799\n",
      "parsing page 1 https://www.intimcity.nl/search_ext.php?text=&type[0]=&type[1]=&type[2]=&a1=&a2=&h1=&h2=&w1=&w2=&b1=&b2=&ws1=&ws2=&fs1=&fs2=&hs1=&hs2=&p11=&p12=&p21=&p22=&p31=&p32=&pn1=&pn2=&nm=&mm=&tr=0&check=&retouch=&indi=&vo=&lng=0&lat=0&r=&phone=&phones=&msgs=&st=&le=&chks=&pon=&hr=0&hu=0&wi=&wp=&wa=&wt=&ms=0&wt1=&wt2=&wt3=&cph=&mp=&ar=&int=&vs=&ex=&news=&sort=&dir=down&view=1&district[27]=on&district[30]=on&district[39]=on&index=3\n",
      "karinneeeee\n",
      "Valeria5322\n",
      "yana08655\n",
      "Lolitabum\n",
      "Angelinsweet\n",
      "veronika_blondi\n",
      "sweeet_switch\n",
      "miria2999\n",
      "AdaMassage\n",
      "lizabamby\n",
      "parsing page 2 https://www.intimcity.nl/search_ext.php?text=&type[0]=&type[1]=&type[2]=&a1=&a2=&h1=&h2=&w1=&w2=&b1=&b2=&ws1=&ws2=&fs1=&fs2=&hs1=&hs2=&p11=&p12=&p21=&p22=&p31=&p32=&pn1=&pn2=&nm=&mm=&tr=0&check=&retouch=&indi=&vo=&lng=0&lat=0&r=&phone=&phones=&msgs=&st=&le=&chks=&pon=&hr=0&hu=0&wi=&wp=&wa=&wt=&ms=0&wt1=&wt2=&wt3=&cph=&mp=&ar=&int=&vs=&ex=&news=&sort=&dir=down&view=1&district[27]=on&district[30]=on&district[39]=on&index=4\n",
      "Karinetty\n",
      "IVOLGA1305\n",
      "Babe111n\n",
      "parsing page 3 https://www.intimcity.nl/search_ext.php?text=&type[0]=&type[1]=&type[2]=&a1=&a2=&h1=&h2=&w1=&w2=&b1=&b2=&ws1=&ws2=&fs1=&fs2=&hs1=&hs2=&p11=&p12=&p21=&p22=&p31=&p32=&pn1=&pn2=&district[27]=on&district[30]=on&district[39]=on&nm=&mm=&tr=0&check=&retouch=&indi=&vo=&lng=0&lat=0&r=&phone=&phones=&msgs=&st=&le=&chks=&pon=&hr=0&hu=0&wi=&wp=&wa=&wt=&ms=0&wt1=&wt2=&wt3=&cph=&mp=&ar=&int=&vs=&ex=&news=&sort=&dir=down&view=3&index=0\n",
      "parsing page 4 https://www.intimcity.nl/search_ext.php?text=&type[0]=&type[1]=&type[2]=&a1=&a2=&h1=&h2=&w1=&w2=&b1=&b2=&ws1=&ws2=&fs1=&fs2=&hs1=&hs2=&p11=&p12=&p21=&p22=&p31=&p32=&pn1=&pn2=&district[27]=on&district[30]=on&district[39]=on&nm=&mm=&tr=0&check=&retouch=&indi=&vo=&lng=0&lat=0&r=&phone=&phones=&msgs=&st=&le=&chks=&pon=&hr=0&hu=0&wi=&wp=&wa=&wt=&ms=0&wt1=&wt2=&wt3=&cph=&mp=&ar=&int=&vs=&ex=&news=&sort=&dir=down&view=2&index=0\n",
      "parsing page 5 https://www.intimcity.nl/search_ext.php?text=&type[0]=&type[1]=&type[2]=&a1=&a2=&h1=&h2=&w1=&w2=&b1=&b2=&ws1=&ws2=&fs1=&fs2=&hs1=&hs2=&p11=&p12=&p21=&p22=&p31=&p32=&pn1=&pn2=&nm=&mm=&tr=0&check=&retouch=&indi=&vo=&lng=0&lat=0&r=&phone=&phones=&msgs=&st=&le=&chks=&pon=&hr=0&hu=0&wi=&wp=&wa=&wt=&ms=0&wt1=&wt2=&wt3=&cph=&mp=&ar=&int=&vs=&ex=&news=&sort=&dir=down&view=1&district[27]=on&district[30]=on&district[39]=on&index=1\n",
      "Nastushka007\n",
      "katya45267\n",
      "konfetabym\n",
      "ImPinkPussy\n",
      "kristina75899\n",
      "eva78009\n",
      "lera66721\n",
      "massagetopp\n",
      "lina_032\n",
      "parsing page 6 https://www.intimcity.nl/search_ext.php?text=&type[0]=&type[1]=&type[2]=&a1=&a2=&h1=&h2=&w1=&w2=&b1=&b2=&ws1=&ws2=&fs1=&fs2=&hs1=&hs2=&p11=&p12=&p21=&p22=&p31=&p32=&pn1=&pn2=&nm=&mm=&tr=0&check=&retouch=&indi=&vo=&lng=0&lat=0&r=&phone=&phones=&msgs=&st=&le=&chks=&pon=&hr=0&hu=0&wi=&wp=&wa=&wt=&ms=0&wt1=&wt2=&wt3=&cph=&mp=&ar=&int=&vs=&ex=&news=&sort=&dir=down&view=1&district[27]=on&district[30]=on&district[39]=on&index=2\n",
      "gospojaaannet\n",
      "Dashenka3015\n",
      "Simalovelove\n",
      "squidieeee\n",
      "Babe111n\n",
      "AnKometa888\n",
      "DASHENKA7883\n",
      "Dasha67543\n",
      "L0031202\n",
      "aizabutch_forreal\n",
      "evaaa99\n"
     ]
    }
   ],
   "source": [
    "index_page = bs(girl_list.text)\n",
    "pages = set([START_PAGE] + extract_pages(index_page))\n",
    "\n",
    "print(\"Number of pages: \", len(pages))\n",
    "\n",
    "all_telegrams = []\n",
    "\n",
    "for i, page in enumerate(pages):\n",
    "\n",
    "    print('parsing page', i, page)\n",
    "\n",
    "    page_soup = requests.get(                \n",
    "        page,\n",
    "        headers=HEADERS,\n",
    "        timeout=30,\n",
    "    )\n",
    "\n",
    "    all_telegrams += extract_girls_telegrams_from_page(bs(page_soup.text))\n",
    "    time.sleep(0.2)\n"
   ]
  },
  {
   "cell_type": "code",
   "execution_count": 14,
   "metadata": {},
   "outputs": [],
   "source": [
    "R=\"\\n\".join(sorted(set(all_telegrams)))\n",
    "f = open('list/2022-18-11-sokol.csv','w')\n",
    "f.write(R)\n",
    "f.close()"
   ]
  },
  {
   "cell_type": "code",
   "execution_count": null,
   "metadata": {},
   "outputs": [],
   "source": []
  }
 ],
 "metadata": {
  "kernelspec": {
   "display_name": "Python 3.10.6 ('torch')",
   "language": "python",
   "name": "python3"
  },
  "language_info": {
   "codemirror_mode": {
    "name": "ipython",
    "version": 3
   },
   "file_extension": ".py",
   "mimetype": "text/x-python",
   "name": "python",
   "nbconvert_exporter": "python",
   "pygments_lexer": "ipython3",
   "version": "3.10.6"
  },
  "orig_nbformat": 4,
  "vscode": {
   "interpreter": {
    "hash": "82ea6adb180b12ed72836e614d5d57295654ca2a9780d621124b81b6a9baa809"
   }
  }
 },
 "nbformat": 4,
 "nbformat_minor": 2
}
